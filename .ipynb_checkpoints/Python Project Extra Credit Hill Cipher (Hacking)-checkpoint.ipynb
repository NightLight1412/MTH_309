{
 "cells": [
  {
   "cell_type": "markdown",
   "metadata": {},
   "source": [
    "Name:"
   ]
  },
  {
   "cell_type": "markdown",
   "metadata": {},
   "source": [
    "### Execute the cell below before proceeding.\n",
    "\n",
    "The code in this cell will download a couple files with Python scripts from the Internet. Make sure that you have a network connection before executing it.  "
   ]
  },
  {
   "cell_type": "code",
   "execution_count": 3,
   "metadata": {},
   "outputs": [],
   "source": [
    "import requests\n",
    "with open(\"hill_cipher_extra_credit.py\", 'w') as foo:\n",
    "    foo.write(requests.get(\"https://git.io/JenzP\").text)\n",
    "with open(\"hill_cipher_extra_credit_samples.py\", 'w') as foo:\n",
    "    foo.write(requests.get(\"https://git.io/JenzX\").text)\n",
    "from hill_cipher_extra_credit import *"
   ]
  },
  {
   "cell_type": "markdown",
   "metadata": {},
   "source": [
    "# Extra credit Hill cipher\n",
    "\n",
    "* This is an extra credit exercise, you are not required to submit it.\n",
    "* The correct solution will award extra 5% to one of midterm exam or final exam (the lowest percentage one)\n",
    "* There is **no partial credit** on this assignment. Incomplete solutions (e.g. incorrect decoding of the cipher, printing the decoded message without any computations  etc.) will receive no credit."
   ]
  },
  {
   "cell_type": "markdown",
   "metadata": {},
   "source": [
    "### Useful Hill Cipher functions"
   ]
  },
  {
   "cell_type": "markdown",
   "metadata": {},
   "source": [
    "**Note:** The functions `char2num()` and `num2char()` should be helpful with this exercise. `char2num()` converts capital letters into numbers:"
   ]
  },
  {
   "cell_type": "code",
   "execution_count": 4,
   "metadata": {},
   "outputs": [
    {
     "data": {
      "text/latex": [
       "$\\displaystyle \\left[ 1, \\  2, \\  3, \\  4, \\  5, \\  6\\right]$"
      ],
      "text/plain": [
       "[1, 2, 3, 4, 5, 6]"
      ]
     },
     "execution_count": 4,
     "metadata": {},
     "output_type": "execute_result"
    }
   ],
   "source": [
    "char2num(\"ABCDEF\")"
   ]
  },
  {
   "cell_type": "markdown",
   "metadata": {},
   "source": [
    "Conversely, `num2char()` converts a list of numbers into corresponding characters. It also displays a black block for each number on the list that does not correspond to any character:"
   ]
  },
  {
   "cell_type": "code",
   "execution_count": 2,
   "metadata": {},
   "outputs": [
    {
     "name": "stdout",
     "output_type": "stream",
     "text": [
      "  20   8   9  19   0   9  19   0   1   0  20   5  19  20 100  -1\n",
      "   T   H   I   S   _   I   S   _   A   _   T   E   S   T   #   #\n",
      "\n"
     ]
    }
   ],
   "source": [
    "mylist = [20,8,9,19,0,9,19,0,1,0,20,5,19,20, 100, -1]\n",
    "num2char(mylist)"
   ]
  },
  {
   "cell_type": "markdown",
   "metadata": {},
   "source": [
    "The function `num2char_text_only()` is similar, but it prints only characters, without the corresponding numbers:"
   ]
  },
  {
   "cell_type": "code",
   "execution_count": 3,
   "metadata": {},
   "outputs": [
    {
     "data": {
      "text/plain": [
       "'THIS_IS_A_TEST##'"
      ]
     },
     "execution_count": 3,
     "metadata": {},
     "output_type": "execute_result"
    }
   ],
   "source": [
    "mylist = [20,8,9,19,0,9,19,0,1,0,20,5,19,20, 100, -1]\n",
    "num2char_text_only(mylist)"
   ]
  },
  {
   "cell_type": "markdown",
   "metadata": {},
   "source": [
    "----"
   ]
  },
  {
   "cell_type": "markdown",
   "metadata": {},
   "source": [
    "### Extra Credit Assignment\n",
    "\n",
    "In the next cell enter your UB person number (digits only, no spaces, dashes etc.) assigning it to the variable `pnum`, and execute the cell. For example, if your UB person number is 50201234, then the next cell should be `pnum = 50201234`"
   ]
  },
  {
   "cell_type": "code",
   "execution_count": 1,
   "metadata": {},
   "outputs": [],
   "source": [
    "pnum = 50226544"
   ]
  },
  {
   "cell_type": "markdown",
   "metadata": {},
   "source": [
    "Execute the next cell to produce a message encrypted with the Hill cipher cipher:"
   ]
  },
  {
   "cell_type": "code",
   "execution_count": 4,
   "metadata": {},
   "outputs": [
    {
     "data": {
      "text/latex": [
       "$\\displaystyle \\left[ 71, \\  130, \\  72, \\  46, \\  107, \\  51, \\  105, \\  155, \\  99, \\  93, \\  110, \\  82, \\  88, \\  69, \\  71, \\  25, \\  115, \\  39, \\  63, \\  56, \\  52, \\  41, \\  92, \\  45, \\  100, \\  305, \\  125, \\  22, \\  49, \\  24, \\  95, \\  210, \\  103, \\  183, \\  215, \\  161, \\  125, \\  211, \\  123, \\  181, \\  252, \\  167, \\  64, \\  107, \\  63, \\  152, \\  255, \\  149, \\  156, \\  313, \\  163, \\  145, \\  231, \\  140\\right]$"
      ],
      "text/plain": [
       "[71, 130, 72, 46, 107, 51, 105, 155, 99, 93, 110, 82, 88, 69, 71, 25, 115, 39,\n",
       " 63, 56, 52, 41, 92, 45, 100, 305, 125, 22, 49, 24, 95, 210, 103, 183, 215, 16\n",
       "1, 125, 211, 123, 181, 252, 167, 64, 107, 63, 152, 255, 149, 156, 313, 163, 14\n",
       "5, 231, 140]"
      ]
     },
     "execution_count": 4,
     "metadata": {},
     "output_type": "execute_result"
    }
   ],
   "source": [
    "cipher = cipher_generator(pnum)\n",
    "cipher"
   ]
  },
  {
   "cell_type": "markdown",
   "metadata": {},
   "source": [
    "Background: You intercepted someone's encrpyted message (i.e. cipher). You know that these cipher are encrpyted using Hill Cipher with a 3$\\times$3 matrix as an encryption key but you don't know what that matrix is. However, you know the first word of the message. From linear algebra, Tom told you that knowing this first word will give enough information to find the encryption key and decrpyt the message. \n",
    "\n",
    "## Instructions\n",
    "\n",
    "#### The encryption key is a 3$\\times$3 matrix and it is not given, but the message starts with the word \"CONFIDENTIAL\". \n",
    "\n",
    "#### Find the encryption key and Decrypt the message. (All of these must be done within this notebook)\n",
    "\n",
    "* **The whole assignment must be completed within this notebook. Computations done on paper or using some other program will not be graded.**\n",
    "* Once you complete this assignment, **save this notebook** and upload this notebook file to UBLearns. \n",
    "\n",
    "#### Hint: (You do not have to follow these hints)\n",
    "* Start with char2num(\"CONFIDENTIAL\")\n",
    "* You might not need all the numbers corresponds to \"CONFIDENTIAL\" to figure out the encryption key. You probably only need 9 digits (Why 9?)\n",
    "* You might want to take some inverses of a square matrix (What square matrix?)\n",
    "* Matrix Multiplication is your friend here (What?)"
   ]
  },
  {
   "cell_type": "code",
   "execution_count": null,
   "metadata": {},
   "outputs": [],
   "source": []
  }
 ],
 "metadata": {
  "kernelspec": {
   "display_name": "Python 3 (ipykernel)",
   "language": "python",
   "name": "python3"
  },
  "language_info": {
   "codemirror_mode": {
    "name": "ipython",
    "version": 3
   },
   "file_extension": ".py",
   "mimetype": "text/x-python",
   "name": "python",
   "nbconvert_exporter": "python",
   "pygments_lexer": "ipython3",
   "version": "3.11.3"
  }
 },
 "nbformat": 4,
 "nbformat_minor": 2
}
