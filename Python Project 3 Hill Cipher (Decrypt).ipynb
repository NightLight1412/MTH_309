{
 "cells": [
  {
   "cell_type": "markdown",
   "metadata": {},
   "source": [
    "Name:ZHENG, Xi\n",
    "Student ID: 50548249"
   ]
  },
  {
   "cell_type": "markdown",
   "metadata": {},
   "source": [
    "### Execute the cell below before proceeding.\n",
    "\n",
    "The code in this cell will download a couple files with Python scripts from the Internet. Make sure that you have a network connection before executing it.  "
   ]
  },
  {
   "cell_type": "code",
   "execution_count": 1,
   "metadata": {},
   "outputs": [],
   "source": [
    "import requests\n",
    "with open(\"hill_cipher.py\", 'w') as foo:\n",
    "    foo.write(requests.get(\"https://git.io/fj5jZ\").text)\n",
    "with open(\"hill_cipher_samples.py\", 'w') as foo:\n",
    "    foo.write(requests.get(\"https://git.io/fj5jc\").text)\n",
    "from hill_cipher import *"
   ]
  },
  {
   "cell_type": "markdown",
   "metadata": {},
   "source": [
    "### Useful Hill cipher functions"
   ]
  },
  {
   "cell_type": "markdown",
   "metadata": {},
   "source": [
    "**Note:** The functions `char2num()` and `num2char()` should be helpful with these exercises. `char2num()` converts capital letters into numbers:"
   ]
  },
  {
   "cell_type": "code",
   "execution_count": 2,
   "metadata": {},
   "outputs": [
    {
     "data": {
      "text/latex": [
       "$\\displaystyle \\left[ 7, \\  15, \\  0, \\  2, \\  9, \\  12, \\  12, \\  19\\right]$"
      ],
      "text/plain": [
       "[7, 15, 0, 2, 9, 12, 12, 19]"
      ]
     },
     "execution_count": 2,
     "metadata": {},
     "output_type": "execute_result"
    }
   ],
   "source": [
    "char2num(\"GO BILLS\")"
   ]
  },
  {
   "cell_type": "markdown",
   "metadata": {},
   "source": [
    "Conversely, `num2char()` converts a list of numbers into corresponding characters. It also displays `#` for each number on the list that does not correspond to any character:"
   ]
  },
  {
   "cell_type": "code",
   "execution_count": 3,
   "metadata": {},
   "outputs": [
    {
     "name": "stdout",
     "output_type": "stream",
     "text": [
      "  20   8   9  19   0   9  19   0   1   0  20   5  19  20 100  -1\n",
      "   T   H   I   S   _   I   S   _   A   _   T   E   S   T   #   #\n",
      "\n"
     ]
    }
   ],
   "source": [
    "mylist = [20,8,9,19,0,9,19,0,1,0,20,5,19,20, 100, -1]\n",
    "num2char(mylist)"
   ]
  },
  {
   "cell_type": "markdown",
   "metadata": {},
   "source": [
    "The function `num2char_text_only()` is similar, but it prints only characters, without the corresponding numbers:"
   ]
  },
  {
   "cell_type": "code",
   "execution_count": 4,
   "metadata": {},
   "outputs": [
    {
     "data": {
      "text/plain": [
       "'THIS_IS_A_TEST##'"
      ]
     },
     "execution_count": 4,
     "metadata": {},
     "output_type": "execute_result"
    }
   ],
   "source": [
    "mylist = [20,8,9,19,0,9,19,0,1,0,20,5,19,20, 100, -1]\n",
    "num2char_text_only(mylist)"
   ]
  },
  {
   "cell_type": "markdown",
   "metadata": {},
   "source": [
    "### Assignment"
   ]
  },
  {
   "cell_type": "markdown",
   "metadata": {},
   "source": [
    "In the next cell enter your UB person number (digits only, no spaces, dashes etc.) assigning it to the variable `pnum`, and execute the cell. For example, if your UB person number is 50201234, then the next cell should be `pnum = 50201234`"
   ]
  },
  {
   "cell_type": "code",
   "execution_count": 5,
   "metadata": {},
   "outputs": [],
   "source": [
    "pnum = 50548249"
   ]
  },
  {
   "cell_type": "markdown",
   "metadata": {},
   "source": [
    "Execute the next cell to produce a message encrypted with the Hill cipher:"
   ]
  },
  {
   "cell_type": "code",
   "execution_count": 6,
   "metadata": {},
   "outputs": [
    {
     "data": {
      "text/latex": [
       "$\\displaystyle \\left[ 44, \\  29, \\  15, \\  54, \\  34, \\  19, \\  71, \\  30, \\  23, \\  55, \\  19, \\  18, \\  13, \\  6, \\  4, \\  48, \\  8, \\  20, \\  18, \\  13, \\  5, \\  20, \\  13, \\  6, \\  58, \\  38, \\  20, \\  27, \\  21, \\  6, \\  29, \\  15, \\  14, \\  43, \\  19, \\  19, \\  63, \\  38, \\  25\\right]$"
      ],
      "text/plain": [
       "[44, 29, 15, 54, 34, 19, 71, 30, 23, 55, 19, 18, 13, 6, 4, 48, 8, 20, 18, 13, \n",
       "5, 20, 13, 6, 58, 38, 20, 27, 21, 6, 29, 15, 14, 43, 19, 19, 63, 38, 25]"
      ]
     },
     "execution_count": 6,
     "metadata": {},
     "output_type": "execute_result"
    }
   ],
   "source": [
    "cipher = cipher_generator(pnum)\n",
    "cipher"
   ]
  },
  {
   "cell_type": "markdown",
   "metadata": {},
   "source": [
    "The cipher key which was used to encrypt this message is the following matrix:\n",
    "\n",
    "$$K = \n",
    "\\begin{bmatrix}\n",
    "1 & 2 & 2 \\\\\n",
    "1 & 1 & 0 \\\\\n",
    "0 & 1 & 1 \\\\\n",
    "\\end{bmatrix}\n",
    "$$"
   ]
  },
  {
   "cell_type": "markdown",
   "metadata": {},
   "source": [
    "**Background: A friend of yours encrypt some messages using the hill cipher with the matrix K that both of you agreed on and that friend send you the cipher and you want to decrypt what message your friend sent you.**\n",
    "\n",
    "## Instructions\n",
    "\n",
    "### Decrypt the message within this notebook and the message is a sentence that make sense.\n",
    "\n",
    "* **The whole assignment must be completed within this notebook. Computations done on paper or using some other program will not be graded.**\n",
    "* Once you complete this assignment, **save this notebook** and upload this notebook file to UBLearns.\n",
    "\n",
    "(Hint: Take a look at the decryption section in the hill_cipher_demo.ipynb)"
   ]
  },
  {
   "cell_type": "markdown",
   "metadata": {},
   "source": [
    "Given the matrix K"
   ]
  },
  {
   "cell_type": "code",
   "execution_count": 7,
   "metadata": {},
   "outputs": [
    {
     "data": {
      "text/latex": [
       "$\\displaystyle \\left[\\begin{matrix}1 & 2 & 2\\\\1 & 1 & 0\\\\0 & 1 & 1\\end{matrix}\\right]$"
      ],
      "text/plain": [
       "⎡1  2  2⎤\n",
       "⎢       ⎥\n",
       "⎢1  1  0⎥\n",
       "⎢       ⎥\n",
       "⎣0  1  1⎦"
      ]
     },
     "execution_count": 7,
     "metadata": {},
     "output_type": "execute_result"
    }
   ],
   "source": [
    "K = Matrix([[1, 2, 2], [1, 1, 0], [0, 1, 1]])\n",
    "K"
   ]
  },
  {
   "cell_type": "code",
   "execution_count": 8,
   "metadata": {},
   "outputs": [
    {
     "name": "stdout",
     "output_type": "stream",
     "text": [
      "39\n"
     ]
    }
   ],
   "source": [
    "print(len(cipher))"
   ]
  },
  {
   "cell_type": "code",
   "execution_count": 9,
   "metadata": {},
   "outputs": [
    {
     "data": {
      "text/latex": [
       "$\\displaystyle \\left[ 44, \\  29, \\  15, \\  54, \\  34, \\  19, \\  71, \\  30, \\  23, \\  55, \\  19, \\  18, \\  13, \\  6, \\  4, \\  48, \\  8, \\  20, \\  18, \\  13, \\  5, \\  20, \\  13, \\  6, \\  58, \\  38, \\  20, \\  27, \\  21, \\  6, \\  29, \\  15, \\  14, \\  43, \\  19, \\  19, \\  63, \\  38, \\  25\\right]$"
      ],
      "text/plain": [
       "[44, 29, 15, 54, 34, 19, 71, 30, 23, 55, 19, 18, 13, 6, 4, 48, 8, 20, 18, 13, \n",
       "5, 20, 13, 6, 58, 38, 20, 27, 21, 6, 29, 15, 14, 43, 19, 19, 63, 38, 25]"
      ]
     },
     "execution_count": 9,
     "metadata": {},
     "output_type": "execute_result"
    }
   ],
   "source": [
    "cipher"
   ]
  },
  {
   "cell_type": "code",
   "execution_count": 10,
   "metadata": {},
   "outputs": [
    {
     "data": {
      "text/latex": [
       "$\\displaystyle \\left[\\begin{matrix}1 & 0 & -2\\\\-1 & 1 & 2\\\\1 & -1 & -1\\end{matrix}\\right]$"
      ],
      "text/plain": [
       "⎡1   0   -2⎤\n",
       "⎢          ⎥\n",
       "⎢-1  1   2 ⎥\n",
       "⎢          ⎥\n",
       "⎣1   -1  -1⎦"
      ]
     },
     "execution_count": 10,
     "metadata": {},
     "output_type": "execute_result"
    }
   ],
   "source": [
    "D=K.inv()\n",
    "D"
   ]
  },
  {
   "cell_type": "code",
   "execution_count": 11,
   "metadata": {},
   "outputs": [
    {
     "data": {
      "text/latex": [
       "$\\displaystyle \\left[\\begin{array}{ccccccccccccc}44 & 54 & 71 & 55 & 13 & 48 & 18 & 20 & 58 & 27 & 29 & 43 & 63\\\\29 & 34 & 30 & 19 & 6 & 8 & 13 & 13 & 38 & 21 & 15 & 19 & 38\\\\15 & 19 & 23 & 18 & 4 & 20 & 5 & 6 & 20 & 6 & 14 & 19 & 25\\end{array}\\right]$"
      ],
      "text/plain": [
       "⎡44  54  71  55  13  48  18  20  58  27  29  43  63⎤\n",
       "⎢                                                  ⎥\n",
       "⎢29  34  30  19  6   8   13  13  38  21  15  19  38⎥\n",
       "⎢                                                  ⎥\n",
       "⎣15  19  23  18  4   20  5   6   20  6   14  19  25⎦"
      ]
     },
     "execution_count": 11,
     "metadata": {},
     "output_type": "execute_result"
    }
   ],
   "source": [
    "A = Matrix(cipher).reshape(13, 3).T\n",
    "A"
   ]
  },
  {
   "cell_type": "code",
   "execution_count": 12,
   "metadata": {},
   "outputs": [
    {
     "data": {
      "text/latex": [
       "$\\displaystyle \\left[\\begin{array}{ccccccccccccc}14 & 16 & 25 & 19 & 5 & 8 & 8 & 8 & 18 & 15 & 1 & 5 & 13\\\\15 & 18 & 5 & 0 & 1 & 0 & 5 & 5 & 20 & 6 & 14 & 14 & 25\\\\0 & 1 & 18 & 18 & 3 & 20 & 0 & 1 & 0 & 0 & 0 & 5 & 0\\end{array}\\right]$"
      ],
      "text/plain": [
       "⎡14  16  25  19  5  8   8  8  18  15  1   5   13⎤\n",
       "⎢                                               ⎥\n",
       "⎢15  18  5   0   1  0   5  5  20  6   14  14  25⎥\n",
       "⎢                                               ⎥\n",
       "⎣0   1   18  18  3  20  0  1  0   0   0   5   0 ⎦"
      ]
     },
     "execution_count": 12,
     "metadata": {},
     "output_type": "execute_result"
    }
   ],
   "source": [
    "B=D*A\n",
    "B"
   ]
  },
  {
   "cell_type": "code",
   "execution_count": 13,
   "metadata": {},
   "outputs": [
    {
     "data": {
      "text/latex": [
       "$\\displaystyle \\left[ 14, \\  15, \\  0, \\  16, \\  18, \\  1, \\  25, \\  5, \\  18, \\  19, \\  0, \\  18, \\  5, \\  1, \\  3, \\  8, \\  0, \\  20, \\  8, \\  5, \\  0, \\  8, \\  5, \\  1, \\  18, \\  20, \\  0, \\  15, \\  6, \\  0, \\  1, \\  14, \\  0, \\  5, \\  14, \\  5, \\  13, \\  25, \\  0\\right]$"
      ],
      "text/plain": [
       "[14, 15, 0, 16, 18, 1, 25, 5, 18, 19, 0, 18, 5, 1, 3, 8, 0, 20, 8, 5, 0, 8, 5,\n",
       " 1, 18, 20, 0, 15, 6, 0, 1, 14, 0, 5, 14, 5, 13, 25, 0]"
      ]
     },
     "execution_count": 13,
     "metadata": {},
     "output_type": "execute_result"
    }
   ],
   "source": [
    "numbers = list(B.T)\n",
    "numbers"
   ]
  },
  {
   "cell_type": "code",
   "execution_count": 14,
   "metadata": {},
   "outputs": [
    {
     "name": "stdout",
     "output_type": "stream",
     "text": [
      "  14  15   0  16  18   1  25   5  18  19   0  18   5   1   3   8   0  20   8   5\n",
      "   N   O   _   P   R   A   Y   E   R   S   _   R   E   A   C   H   _   T   H   E\n",
      "\n",
      "   0   8   5   1  18  20   0  15   6   0   1  14   0   5  14   5  13  25   0\n",
      "   _   H   E   A   R   T   _   O   F   _   A   N   _   E   N   E   M   Y   _\n",
      "\n"
     ]
    }
   ],
   "source": [
    "num2char(numbers)"
   ]
  },
  {
   "cell_type": "code",
   "execution_count": 15,
   "metadata": {},
   "outputs": [
    {
     "data": {
      "text/plain": [
       "'NO_PRAYERS_REACH_THE_HEART_OF_AN_ENEMY_'"
      ]
     },
     "execution_count": 15,
     "metadata": {},
     "output_type": "execute_result"
    }
   ],
   "source": [
    "num2char_text_only(numbers)"
   ]
  },
  {
   "cell_type": "code",
   "execution_count": null,
   "metadata": {},
   "outputs": [],
   "source": []
  }
 ],
 "metadata": {
  "kernelspec": {
   "display_name": "Python 3 (ipykernel)",
   "language": "python",
   "name": "python3"
  },
  "language_info": {
   "codemirror_mode": {
    "name": "ipython",
    "version": 3
   },
   "file_extension": ".py",
   "mimetype": "text/x-python",
   "name": "python",
   "nbconvert_exporter": "python",
   "pygments_lexer": "ipython3",
   "version": "3.11.5"
  }
 },
 "nbformat": 4,
 "nbformat_minor": 4
}
